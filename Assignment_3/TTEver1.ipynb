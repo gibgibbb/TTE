{
 "cells": [
  {
   "cell_type": "markdown",
   "id": "9f2f8947-c04b-4507-9184-795ca286067d",
   "metadata": {},
   "source": [
    "# Cell 1: Import Libraries\n",
    "Import libraries needed for data manipulation (pandas, numpy), statistical modeling (statsmodels), and visualization (matplotlib, seaborn)."
   ]
  },
  {
   "cell_type": "code",
   "execution_count": 23,
   "id": "4123cf6c-6cf4-4806-ab8a-1e267d3e39df",
   "metadata": {},
   "outputs": [],
   "source": [
    "import numpy as np\n",
    "import pandas as pd\n",
    "import statsmodels.api as sm\n",
    "import statsmodels.formula.api as smf\n",
    "import matplotlib.pyplot as plt\n",
    "import seaborn as sns\n",
    "%matplotlib inline"
   ]
  },
  {
   "cell_type": "markdown",
   "id": "204a7a46-7f30-4b4b-8248-991ff31e20eb",
   "metadata": {},
   "source": [
    "# For inline plotting in Jupyter Notebook"
   ]
  },
  {
   "cell_type": "code",
   "execution_count": 24,
   "id": "b251d6ce-23b2-46f4-9a7f-d5472033f770",
   "metadata": {},
   "outputs": [],
   "source": [
    "%matplotlib inline"
   ]
  },
  {
   "cell_type": "markdown",
   "id": "555b251c-8c08-4682-bc88-975e4912d667",
   "metadata": {},
   "source": [
    "# Cell 2: Create dummy data similar to \"data_censored\" in R\n",
    "In this cell, we simulate a dataset that is similar to the \"data_censored\" data used in the original R example. We set a random seed for reproducibility and create a DataFrame with 200 simulated patients. The dataset includes various columns such as id, period, treatment, outcome, eligible, and several covariates like age, x1, x2, and x3. Additionally, we create a censored column to represent whether a patient was censored. To facilitate later logistic regression modeling, we generate a binary indicator variable named age_binary that indicates if a patient’s age is greater than 50. Finally, we print the first few rows of the dummy dataset to inspect its structure."
   ]
  },
  {
   "cell_type": "code",
   "execution_count": 25,
   "id": "1555dc6c-c94c-4c4d-9a65-846601dc21b7",
   "metadata": {},
   "outputs": [
    {
     "name": "stdout",
     "output_type": "stream",
     "text": [
      "   id  period  treatment   outcome  eligible        age        x1        x2  \\\n",
      "0   1       1          0 -0.680025         1  65.231241  0.593101  1.382159   \n",
      "1   2       1          1  0.232254         0  55.389100 -0.309546  0.648710   \n",
      "2   3       1          1  0.293072         1  39.627538  0.326133 -0.167118   \n",
      "3   4       1          1 -0.714351         1  48.096613 -1.251114  0.146714   \n",
      "4   5       1          0  1.865775         1  41.243817  0.924027  1.206509   \n",
      "\n",
      "         x3  censored  age_binary  \n",
      "0  0.732640         1           1  \n",
      "1 -0.080717         0           1  \n",
      "2  0.078635         0           0  \n",
      "3 -1.998201         1           0  \n",
      "4  0.916328         0           0  \n"
     ]
    }
   ],
   "source": [
    "np.random.seed(42)  # Set seed for reproducibility\n",
    "n = 200  # Number of patients\n",
    "data_censored = pd.DataFrame({\n",
    "    'id': np.arange(1, n+1),\n",
    "    'period': 1,\n",
    "    'treatment': np.random.binomial(1, 0.5, n),\n",
    "    'outcome': np.random.normal(0, 1, n),\n",
    "    'eligible': np.random.binomial(1, 0.8, n),\n",
    "    'age': np.random.normal(50, 10, n),\n",
    "    'x1': np.random.normal(0, 1, n),\n",
    "    'x2': np.random.normal(0, 1, n),\n",
    "    'x3': np.random.normal(0, 1, n),\n",
    "    'censored': np.random.binomial(1, 0.1, n)\n",
    "})\n",
    "\n",
    "data_censored['age_binary'] = (data_censored['age'] > 50).astype(int)\n",
    "print(data_censored.head())"
   ]
  },
  {
   "cell_type": "markdown",
   "id": "7ce619af-15a2-4d82-bef5-5956fbbb1a6e",
   "metadata": {},
   "source": [
    "# Cell 3: Define a class to simulate trial emulation steps\n",
    "In this cell, we define a Python class called TrialSequence that simulates the analysis steps performed by the R package TrialEmulation. This class contains several methods to streamline the workflow. The set_data method is used to store and structure the input dataset, while the set_switch_weight_model and set_censor_weight_model methods are responsible for fitting logistic regression models to calculate weights that adjust for treatment switching and censoring, respectively. The calculate_weights method computes the final weights by combining the predictions from the fitted models. Furthermore, the set_outcome_model method fits a weighted linear regression model to estimate the effect of treatment on the outcome. The class also includes methods such as set_expansion_options and expand_trials to transform the data into a long format that represents repeated follow-up times, and the load_expanded_data method simulates down-sampling control observations for an ITT analysis. Finally, the fit_msm method fits a marginal structural model (MSM) using winsorized weights, and the predict_survival method calculates a simple survival difference between the treatment groups at different follow-up times."
   ]
  },
  {
   "cell_type": "code",
   "execution_count": 26,
   "id": "c0740bd9-fd6a-4f0b-beb2-27052d132e45",
   "metadata": {},
   "outputs": [],
   "source": [
    "class TrialSequence:\n",
    "    def __init__(self, estimand):\n",
    "        self.estimand = estimand  # \"PP\" or \"ITT\"\n",
    "        self.data = None\n",
    "        self.expanded_data = None\n",
    "\n",
    "    def set_data(self, data, id_col, period, treatment, outcome, eligible):\n",
    "        self.data = data.copy()\n",
    "        self.id_col = id_col\n",
    "        self.period = period\n",
    "        self.treatment = treatment\n",
    "        self.outcome = outcome\n",
    "        self.eligible = eligible\n",
    "        return self\n",
    "\n",
    "    def set_switch_weight_model(self, numerator_formula, denominator_formula):\n",
    "        # This model is only used for the Per-Protocol estimand.\n",
    "        if self.estimand != \"PP\":\n",
    "            print(\"Switch weight model is only applicable for PP estimand\")\n",
    "            return self\n",
    "        self.switch_numerator_formula = numerator_formula\n",
    "        self.switch_denominator_formula = denominator_formula\n",
    "        # Fit logistic regression models using statsmodels\n",
    "        self.switch_num_model = smf.glm(formula=numerator_formula, data=self.data, \n",
    "                                        family=sm.families.Binomial()).fit()\n",
    "        self.switch_den_model = smf.glm(formula=denominator_formula, data=self.data, \n",
    "                                        family=sm.families.Binomial()).fit()\n",
    "        return self\n",
    "\n",
    "    def set_censor_weight_model(self, censor_event, numerator_formula, denominator_formula, pool_models=\"none\"):\n",
    "        self.censor_event = censor_event\n",
    "        self.censor_num_formula = numerator_formula\n",
    "        self.censor_den_formula = denominator_formula\n",
    "        self.pool_models = pool_models\n",
    "        # Fit censoring weight models (both for PP and ITT)\n",
    "        self.censor_num_model = smf.glm(formula=numerator_formula, data=self.data, \n",
    "                                        family=sm.families.Binomial()).fit()\n",
    "        self.censor_den_model = smf.glm(formula=denominator_formula, data=self.data, \n",
    "                                        family=sm.families.Binomial()).fit()\n",
    "        return self\n",
    "\n",
    "    def calculate_weights(self):\n",
    "        # Compute predicted probabilities from the fitted models.\n",
    "        if self.estimand == \"PP\":\n",
    "            pred_switch_num = self.switch_num_model.predict(self.data)\n",
    "            pred_switch_den = self.switch_den_model.predict(self.data)\n",
    "            switch_weight = pred_switch_num / pred_switch_den\n",
    "        else:\n",
    "            switch_weight = 1.0\n",
    "        pred_censor_num = self.censor_num_model.predict(self.data)\n",
    "        pred_censor_den = self.censor_den_model.predict(self.data)\n",
    "        censor_weight = pred_censor_num / pred_censor_den\n",
    "        \n",
    "        # Combine weights (here, simply multiply the two components)\n",
    "        self.data['weight'] = switch_weight * censor_weight\n",
    "        return self\n",
    "\n",
    "    def show_weight_models(self):\n",
    "        print(\"Censor weight model summary:\")\n",
    "        print(self.censor_den_model.summary())\n",
    "        if self.estimand == \"PP\":\n",
    "            print(\"\\nSwitch weight model summary:\")\n",
    "            print(self.switch_den_model.summary())\n",
    "\n",
    "    def set_outcome_model(self, adjustment_terms=None):\n",
    "        # For illustration, we fit a weighted linear model for the outcome.\n",
    "        # Outcome is modeled as a function of treatment; for ITT we add adjustment terms.\n",
    "        formula = f\"{self.outcome} ~ {self.treatment}\"\n",
    "        if adjustment_terms:\n",
    "            # Expect adjustment_terms as a string (e.g., \"x2\")\n",
    "            formula += \" + \" + adjustment_terms\n",
    "        self.outcome_formula = formula\n",
    "        self.outcome_model = smf.wls(formula=formula, data=self.data, weights=self.data['weight']).fit()\n",
    "        return self\n",
    "\n",
    "    def set_expansion_options(self, chunk_size=500):\n",
    "        # Expand the trial data to a long format with repeated follow-up times (here, 0 to 10)\n",
    "        expanded = []\n",
    "        for _, row in self.data.iterrows():\n",
    "            for t in range(11):  # follow-up times 0 through 10\n",
    "                new_row = row.copy()\n",
    "                new_row['followup_time'] = t\n",
    "                expanded.append(new_row)\n",
    "        self.expanded_data = pd.DataFrame(expanded)\n",
    "        return self\n",
    "\n",
    "    def expand_trials(self):\n",
    "        # In this simulation, expansion is already done.\n",
    "        return self\n",
    "\n",
    "    def load_expanded_data(self, seed=1234, p_control=0.5):\n",
    "        # For ITT: sample the expanded data so that only a fraction of control patients is retained.\n",
    "        np.random.seed(seed)\n",
    "        if self.expanded_data is not None:\n",
    "            # Assume treatment=0 indicates control.\n",
    "            control = self.expanded_data[self.expanded_data[self.treatment] == 0]\n",
    "            treated = self.expanded_data[self.expanded_data[self.treatment] == 1]\n",
    "            control_sampled = control.sample(frac=p_control)\n",
    "            self.expanded_data = pd.concat([treated, control_sampled], ignore_index=True)\n",
    "        return self\n",
    "\n",
    "    def fit_msm(self, weight_col='weight'):\n",
    "        # Fit a marginal structural model (MSM) on the expanded data.\n",
    "        # Winsorize extreme weights at the 99th percentile.\n",
    "        w = self.expanded_data[weight_col]\n",
    "        q99 = w.quantile(0.99)\n",
    "        self.expanded_data['w_mod'] = np.where(w > q99, q99, w)\n",
    "        # For simplicity, we model the outcome as a linear function of treatment and followup time.\n",
    "        msm_formula = f\"{self.outcome} ~ {self.treatment} + followup_time\"\n",
    "        self.msm_model = smf.wls(formula=msm_formula, data=self.expanded_data, \n",
    "                                 weights=self.expanded_data['w_mod']).fit()\n",
    "        return self\n",
    "\n",
    "    def predict_survival(self, predict_times):\n",
    "        # This function “predicts” survival differences over time.\n",
    "        # Here we calculate, for each follow-up time, the difference in the mean outcome between treated and control.\n",
    "        preds = []\n",
    "        for t in predict_times:\n",
    "            df_t = self.expanded_data[self.expanded_data['followup_time'] == t]\n",
    "            treated_mean = df_t[df_t[self.treatment] == 1][self.outcome].mean()\n",
    "            control_mean = df_t[df_t[self.treatment] == 0][self.outcome].mean()\n",
    "            survival_diff = treated_mean - control_mean\n",
    "            preds.append({'followup_time': t, 'survival_diff': survival_diff})\n",
    "        self.preds = pd.DataFrame(preds)\n",
    "        return self.preds"
   ]
  },
  {
   "cell_type": "markdown",
   "id": "cf2b5a42-0725-4283-a4d8-889e419094b7",
   "metadata": {},
   "source": [
    "# Cell 4: Create Trial Objects for Per-Protocol (PP) and Intention-to-Treat (ITT)\n",
    "In this cell, we instantiate two separate trial objects, one for the Per-Protocol (PP) analysis and one for the Intention-to-Treat (ITT) analysis. Both objects use the same dummy dataset that we created earlier, and we use the set_data method of our TrialSequence class to assign the dataset and relevant column names to each trial object. This step lays the groundwork for the subsequent modeling tasks where different analyses will be applied to each trial object."
   ]
  },
  {
   "cell_type": "code",
   "execution_count": 27,
   "id": "de4781ff-29ab-4eab-a001-c4a113097aab",
   "metadata": {},
   "outputs": [
    {
     "data": {
      "text/plain": [
       "<__main__.TrialSequence at 0x26eed904f50>"
      ]
     },
     "execution_count": 27,
     "metadata": {},
     "output_type": "execute_result"
    }
   ],
   "source": [
    "trial_pp = TrialSequence(estimand=\"PP\")\n",
    "trial_itt = TrialSequence(estimand=\"ITT\")\n",
    "\n",
    "# Set the data for both trials\n",
    "trial_pp.set_data(data_censored, id_col=\"id\", period=\"period\",\n",
    "                    treatment=\"treatment\", outcome=\"outcome\", eligible=\"eligible\")\n",
    "trial_itt.set_data(data_censored, id_col=\"id\", period=\"period\",\n",
    "                   treatment=\"treatment\", outcome=\"outcome\", eligible=\"eligible\")"
   ]
  },
  {
   "cell_type": "markdown",
   "id": "ea72cb89-d4e6-49e5-93a3-f0d3677d9f40",
   "metadata": {},
   "source": [
    "# Cell 5: Set Up Weight Models and Censoring\n",
    "This cell is dedicated to establishing the weight models that will adjust for treatment switching and censoring. For the Per-Protocol analysis, we apply a switch weight model by calling the set_switch_weight_model method with a numerator model that predicts age_binary using age and a denominator model that includes additional covariates x1 and x3. Both trial objects also have a censor weight model applied using the set_censor_weight_model method, where the numerator model predicts the probability of censoring based solely on x2, and the denominator model uses both x2 and x1. This process ensures that both types of biases (switching and censoring) are accounted for, although only the PP trial uses the switching model."
   ]
  },
  {
   "cell_type": "code",
   "execution_count": null,
   "id": "e5c5807d-38d7-44ef-a09a-aa0d10ac42d7",
   "metadata": {},
   "outputs": [],
   "source": [
    "trial_pp.set_switch_weight_model(numerator_formula=\"age_binary ~ age\",\n",
    "                                 denominator_formula=\"age_binary ~ age + x1 + x3\")\n",
    "\n",
    "# For both PP and ITT: set up a censoring weight model using 'censored'\n",
    "trial_pp.set_censor_weight_model(censor_event=\"censored\",\n",
    "                                 numerator_formula=\"censored ~ x2\",\n",
    "                                 denominator_formula=\"censored ~ x2 + x1\",\n",
    "                                 pool_models=\"none\")\n",
    "\n",
    "trial_itt.set_censor_weight_model(censor_event=\"censored\",\n",
    "                                  numerator_formula=\"censored ~ x2\",\n",
    "                                  denominator_formula=\"censored ~ x2 + x1\",\n",
    "                                  pool_models=\"numerator\")"
   ]
  },
  {
   "cell_type": "markdown",
   "id": "8f07cef5-0c22-4b77-aa56-e0c4d802db55",
   "metadata": {},
   "source": [
    "# Cell 6: Calculate Weights and Show Weight Model Summaries\n",
    "After setting up the weight models, we move on to calculate the weights for both trial objects. The calculate_weights method uses the fitted logistic regression models to compute predicted probabilities for both treatment switching (for PP) and censoring, and then combines these probabilities to generate a final weight for each observation. In addition, we print out the model summaries using the show_weight_models method for both trial objects. This gives us an opportunity to inspect and validate the fit of our logistic regression models."
   ]
  },
  {
   "cell_type": "code",
   "execution_count": null,
   "id": "5e75c931-cd20-451c-9775-335560db1d03",
   "metadata": {},
   "outputs": [],
   "source": [
    "trial_pp.calculate_weights()\n",
    "trial_itt.calculate_weights()\n",
    "\n",
    "# Optionally, view summaries of the weight models\n",
    "print(\"=== Per-Protocol weight models ===\")\n",
    "trial_pp.show_weight_models()\n",
    "\n",
    "print(\"\\n=== ITT weight models ===\")\n",
    "trial_itt.show_weight_models()"
   ]
  },
  {
   "cell_type": "markdown",
   "id": "6ed05df7-d5f6-44d2-b6bf-bd7aa11f5aa7",
   "metadata": {},
   "source": [
    "# Cell 7: Specify Outcome Models\n",
    "In this cell, we define and fit the outcome models for each trial using weighted least squares (WLS). For the PP analysis, the outcome model is built using only the treatment variable as a predictor, while for the ITT analysis, an additional covariate (x2) is included as an adjustment term. The set_outcome_model method takes care of specifying the model formula and fitting the model using the weights computed earlier. This step is crucial as it estimates the effect of the treatment on the outcome while adjusting for other variables if necessary."
   ]
  },
  {
   "cell_type": "code",
   "execution_count": 30,
   "id": "d2093d04-4571-4f28-8d92-d6a7a823091d",
   "metadata": {},
   "outputs": [
    {
     "data": {
      "text/plain": [
       "<__main__.TrialSequence at 0x26eed904f50>"
      ]
     },
     "execution_count": 30,
     "metadata": {},
     "output_type": "execute_result"
    }
   ],
   "source": [
    "trial_pp.set_outcome_model()\n",
    "trial_itt.set_outcome_model(adjustment_terms=\"x2\")"
   ]
  },
  {
   "cell_type": "markdown",
   "id": "6acca1dd-5715-4924-a724-a2f1f98caafc",
   "metadata": {},
   "source": [
    "# Cell 8: Expand Trial Data for Repeated Follow-Up\n",
    "In this cell, we simulate a longitudinal study design by expanding the dataset into a long format, which mimics repeated follow-up times for each patient. We call the set_expansion_options method with a chunk size (although not explicitly used here) and then expand the dataset so that every patient has a record for follow-up times ranging from 0 to 10. For the ITT analysis, we also perform down-sampling of control patients by calling the load_expanded_data method, which randomly retains 50% of control observations. This step is important for creating a dataset that reflects the dynamics of repeated measurements over time."
   ]
  },
  {
   "cell_type": "code",
   "execution_count": 31,
   "id": "c33d82e1-bf5f-4f40-842a-d9abdc4a63dc",
   "metadata": {},
   "outputs": [
    {
     "data": {
      "text/plain": [
       "<__main__.TrialSequence at 0x26eed904f50>"
      ]
     },
     "execution_count": 31,
     "metadata": {},
     "output_type": "execute_result"
    }
   ],
   "source": [
    "trial_pp.set_expansion_options(chunk_size=500).expand_trials()\n",
    "trial_itt.set_expansion_options(chunk_size=500).expand_trials()\n",
    "\n",
    "# For ITT, sample expanded data (here, keep all treated and 50% of control patients)\n",
    "trial_itt.load_expanded_data(seed=1234, p_control=0.5)"
   ]
  },
  {
   "cell_type": "markdown",
   "id": "c0c4f531-230e-49e0-8386-bab22990053b",
   "metadata": {},
   "source": [
    "# Cell 9: Fit the Marginal Structural Model (MSM)\n",
    "This cell is dedicated to fitting a marginal structural model (MSM) on the expanded dataset from the ITT analysis. Before fitting the model, we perform winsorization on the weights to cap extreme values at the 99th percentile, thereby reducing the influence of outliers. We then use the weighted least squares method to fit an MSM that models the outcome as a function of both the treatment variable and the follow-up time. The fitted model summary is printed to provide detailed results of the MSM fit."
   ]
  },
  {
   "cell_type": "code",
   "execution_count": 32,
   "id": "25afa0ea-5e54-4bde-a8e2-882516cb8e0a",
   "metadata": {},
   "outputs": [
    {
     "name": "stdout",
     "output_type": "stream",
     "text": [
      "MSM model summary (ITT):\n",
      "                            WLS Regression Results                            \n",
      "==============================================================================\n",
      "Dep. Variable:                outcome   R-squared:                       0.000\n",
      "Model:                            WLS   Adj. R-squared:                 -0.001\n",
      "Method:                 Least Squares   F-statistic:                    0.1445\n",
      "Date:                Sun, 09 Mar 2025   Prob (F-statistic):              0.865\n",
      "Time:                        22:21:33   Log-Likelihood:                -2217.4\n",
      "No. Observations:                1639   AIC:                             4441.\n",
      "Df Residuals:                    1636   BIC:                             4457.\n",
      "Df Model:                           2                                         \n",
      "Covariance Type:            nonrobust                                         \n",
      "=================================================================================\n",
      "                    coef    std err          t      P>|t|      [0.025      0.975]\n",
      "---------------------------------------------------------------------------------\n",
      "Intercept         0.0694      0.054      1.291      0.197      -0.036       0.175\n",
      "treatment         0.0188      0.048      0.389      0.697      -0.076       0.113\n",
      "followup_time     0.0027      0.007      0.376      0.707      -0.012       0.017\n",
      "==============================================================================\n",
      "Omnibus:                       25.686   Durbin-Watson:                   0.985\n",
      "Prob(Omnibus):                  0.000   Jarque-Bera (JB):               28.838\n",
      "Skew:                           0.253   Prob(JB):                     5.47e-07\n",
      "Kurtosis:                       3.407   Cond. No.                         17.0\n",
      "==============================================================================\n",
      "\n",
      "Notes:\n",
      "[1] Standard Errors assume that the covariance matrix of the errors is correctly specified.\n"
     ]
    }
   ],
   "source": [
    "trial_itt.fit_msm(weight_col='weight')\n",
    "print(\"MSM model summary (ITT):\")\n",
    "print(trial_itt.msm_model.summary())"
   ]
  },
  {
   "cell_type": "markdown",
   "id": "8a8f51f0-7496-484d-a881-904bced8e9ff",
   "metadata": {},
   "source": [
    "# Cell 10: Predict Survival Differences Over Follow-Up\n",
    "In this cell, we simulate the process of making inferences by predicting survival differences over a series of follow-up times. The predict_survival method calculates, for each follow-up time (from 0 to 10), the difference in the mean outcome between the treated and control groups. This difference is interpreted as a proxy for the survival difference between the groups. The predicted survival differences are printed for inspection."
   ]
  },
  {
   "cell_type": "code",
   "execution_count": 33,
   "id": "811e1a13-7b94-4ffe-9f49-8ec901037059",
   "metadata": {},
   "outputs": [
    {
     "name": "stdout",
     "output_type": "stream",
     "text": [
      "Predicted survival differences:\n",
      "    followup_time  survival_diff\n",
      "0               0      -0.153338\n",
      "1               1       0.117949\n",
      "2               2       0.315485\n",
      "3               3       0.071334\n",
      "4               4      -0.036662\n",
      "5               5      -0.018058\n",
      "6               6      -0.138998\n",
      "7               7       0.045684\n",
      "8               8       0.107756\n",
      "9               9       0.114916\n",
      "10             10      -0.060990\n"
     ]
    }
   ],
   "source": [
    "preds = trial_itt.predict_survival(predict_times=range(11))\n",
    "print(\"Predicted survival differences:\")\n",
    "print(preds)"
   ]
  },
  {
   "cell_type": "markdown",
   "id": "d8654116-f9d4-439c-8fd9-a663739913ed",
   "metadata": {},
   "source": [
    "# Cell 11: Plot the Survival Differences\n",
    "Finally, we create a visualization of the survival differences over time using Matplotlib. In this cell, we plot the survival difference at each follow-up time, labeling the axes and adding a title to the plot. We also add a legend and grid lines for clarity. This visual representation helps to illustrate the trend in the treatment effect over the follow-up period."
   ]
  },
  {
   "cell_type": "code",
   "execution_count": 34,
   "id": "af565500-8ac5-42d2-b770-fa724faeb5a1",
   "metadata": {},
   "outputs": [
    {
     "data": {
      "image/png": "[encoded data removed]",
      "text/plain": [
       "<Figure size 800x500 with 1 Axes>"
      ]
     },
     "metadata": {},
     "output_type": "display_data"
    }
   ],
   "source": [
    "plt.figure(figsize=(8,5))\n",
    "plt.plot(preds['followup_time'], preds['survival_diff'], label='Survival difference', marker='o')\n",
    "plt.xlabel(\"Follow-up Time\")\n",
    "plt.ylabel(\"Survival Difference\")\n",
    "plt.title(\"Survival Differences over Time (ITT)\")\n",
    "plt.legend()\n",
    "plt.grid(True)\n",
    "plt.show()"
   ]
  },
  {
   "cell_type": "markdown",
   "id": "51e09bf4-7534-4fac-88cb-e511810851a5",
   "metadata": {},
   "source": [
    "# Insights about Survival Difference Plot\n",
    "In this analysis, we simulated an observational study with repeated follow-up to investigate the treatment effect over time. By emulating the trial sequence, we first generated synthetic patient data and applied logistic regression models to adjust for biases due to treatment switching and informative censoring. The computed weights, which are the ratios of predicted probabilities, were crucial for balancing the treated and control groups. These weights were then used in a weighted least squares regression to fit both the outcome and marginal structural models (MSM).\n",
    "\n",
    "The MSM, fitted on the expanded longitudinal data, allowed us to explore how the survival differences between the groups change over a series of follow-up times. Winsorizing extreme weights ensured that our estimates were not overly influenced by outliers, which is a common challenge in causal inference.\n",
    "\n",
    "When we predicted survival differences, we obtained a time series of treatment effects. Although the simulated data are simplistic and the effect sizes might be modest or even negligible, the process illustrates several important points:\n",
    "  \n",
    "1. **Importance of Weighting:** The use of weights derived from logistic regression models helps in creating a pseudo-population where the confounding due to treatment switching and censoring is minimized. This is critical in observational studies where randomization is absent.\n",
    "  \n",
    "2. **Longitudinal Data Handling:** Expanding the data to simulate repeated follow-up demonstrates how dynamic treatment effects can be evaluated over time. It provides a more nuanced understanding than a single, static measure of effect.\n",
    "  \n",
    "3. **Marginal Structural Models (MSM):** Fitting an MSM is particularly useful in longitudinal studies because it accounts for time-varying confounding. The inclusion of follow-up time in the model allows the analysis to capture trends and variations in the treatment effect over time.\n",
    "  \n",
    "4. **Interpretation of Survival Differences:** The predicted survival difference, here defined as the difference in mean outcomes between treated and control groups, serves as a simplified proxy for a more complex survival analysis. In practice, such differences could be indicative of the efficacy of a treatment or intervention, guiding clinical or policy decisions.\n",
    "\n",
    "5. **Limitations and Extensions:** While the simulated analysis provides valuable insights, real-world data often exhibit greater complexity. For instance, the use of survival analysis techniques (such as Cox proportional hazards models) might be more appropriate for time-to-event outcomes. Additionally, the dummy data in this example may not capture all nuances of censoring or treatment switching. Researchers should consider these factors when designing studies and interpreting results.\n",
    "\n",
    "Overall, this Notebook demonstrates a structured approach to understanding how survival differences can be modeled and interpreted over time. The methodology underscores the importance of appropriate weighting and longitudinal analysis in causal inference, providing a framework that can be further refined for more complex, real-world applications."
   ]
  },
  {
   "cell_type": "code",
   "execution_count": null,
   "id": "bd907149-4fe7-4fa2-953b-923355b4e7e4",
   "metadata": {},
   "outputs": [],
   "source": []
  }
 ],
 "metadata": {
  "kernelspec": {
   "display_name": "Python 3 (ipykernel)",
   "language": "python",
   "name": "python3"
  },
  "language_info": {
   "codemirror_mode": {
    "name": "ipython",
    "version": 3
   },
   "file_extension": ".py",
   "mimetype": "text/x-python",
   "name": "python",
   "nbconvert_exporter": "python",
   "pygments_lexer": "ipython3",
   "version": "3.13.2"
  }
 },
 "nbformat": 4,
 "nbformat_minor": 5
}
